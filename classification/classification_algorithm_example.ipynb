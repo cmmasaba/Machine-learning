{
 "cells": [
  {
   "cell_type": "markdown",
   "id": "bd762e83-5975-4e1c-a618-a01efce97a85",
   "metadata": {},
   "source": [
    "# Classification Step-by-Step"
   ]
  },
  {
   "cell_type": "markdown",
   "id": "c5ea14a8-276b-4b25-bb3a-363904f87ccc",
   "metadata": {},
   "source": [
    "### Setup"
   ]
  },
  {
   "cell_type": "code",
   "execution_count": 131,
   "id": "8378abc7-65f7-4f20-84ee-a2f75b943232",
   "metadata": {},
   "outputs": [],
   "source": [
    "import matplotlib as mpl\n",
    "import matplotlib.pyplot as plt\n",
    "import numpy as np\n",
    "from sklearn.linear_model import SGDClassifier\n",
    "from sklearn.model_selection import cross_val_score, cross_val_predict\n",
    "from sklearn.metrics import (\n",
    "    confusion_matrix,\n",
    "    precision_score,\n",
    "    recall_score,\n",
    "    f1_score,\n",
    "    precision_recall_curve,\n",
    "    roc_auc_score,\n",
    "    roc_curve\n",
    ")\n",
    "from sklearn.ensemble import RandomForestClassifier\n",
    "from sklearn.svm import SVC\n",
    "from sklearn.multiclass import OneVsRestClassifier\n",
    "from sklearn.preprocessing import StandardScaler\n",
    "from sklearn.neighbors import KNeighborsClassifier"
   ]
  },
  {
   "cell_type": "markdown",
   "id": "286f45ac-41df-42ca-ad49-f40144ebe8b4",
   "metadata": {},
   "source": [
    "## MNIST dataset\n",
    "\n",
    "MNIST is a dataset of 70,000 small images of handwritten digits. Each image is labelled with the corresponding digit it represents.<br>\n",
    "Scikit-learn provides helper functions to download popular datasets. Datasets loaded by Scikit-learn have a similar dictionary structure.<br>\n",
    "`DESCR`: describes the dataset<br>\n",
    "`data`: an array with one row per instance and one column per feature<br>\n",
    "`target`: an array with the labels"
   ]
  },
  {
   "cell_type": "code",
   "execution_count": 1,
   "id": "9caae995-d6e6-4b06-b15a-73362a0923e4",
   "metadata": {},
   "outputs": [
    {
     "data": {
      "text/plain": [
       "dict_keys(['data', 'target', 'frame', 'categories', 'feature_names', 'target_names', 'DESCR', 'details', 'url'])"
      ]
     },
     "execution_count": 1,
     "metadata": {},
     "output_type": "execute_result"
    }
   ],
   "source": [
    "from sklearn.datasets import fetch_openml\n",
    "mnist = fetch_openml('mnist_784', version=1)\n",
    "mnist.keys()"
   ]
  },
  {
   "cell_type": "code",
   "execution_count": 2,
   "id": "6fd5ec77-64d9-43d2-a1b6-1832a29bab74",
   "metadata": {},
   "outputs": [
    {
     "data": {
      "text/plain": [
       "(70000, 784)"
      ]
     },
     "execution_count": 2,
     "metadata": {},
     "output_type": "execute_result"
    }
   ],
   "source": [
    "X, y = mnist['data'], mnist['target']\n",
    "X.shape"
   ]
  },
  {
   "cell_type": "code",
   "execution_count": 3,
   "id": "78d795ba-2c1d-4a54-886e-ffe445ba15f6",
   "metadata": {},
   "outputs": [
    {
     "data": {
      "text/plain": [
       "(70000,)"
      ]
     },
     "execution_count": 3,
     "metadata": {},
     "output_type": "execute_result"
    }
   ],
   "source": [
    "y.shape"
   ]
  },
  {
   "cell_type": "markdown",
   "id": "f9b10798-db06-4600-831d-d4d25eb45528",
   "metadata": {},
   "source": [
    "There are `70,000` images and each image has `784` features. This is so because the images are `28x28` pixels, and each feature is a representation of one pixel's intensity from `0 (white)` to `255 (black)`."
   ]
  },
  {
   "cell_type": "markdown",
   "id": "12d1efef-7047-49d7-b650-9fbddf6bde96",
   "metadata": {},
   "source": [
    "### Viewing the contents in the dataset\n",
    "\n",
    "To do so, get an instance's feature vector, reshape it to a 28x28 feature vector and the plot using matplotlib."
   ]
  },
  {
   "cell_type": "code",
   "execution_count": 4,
   "id": "07ab09c4-71e7-4bbb-9918-591e70fdf3d2",
   "metadata": {},
   "outputs": [
    {
     "data": {
      "image/png": "[encoded data removed]",
      "text/plain": [
       "<Figure size 640x480 with 1 Axes>"
      ]
     },
     "metadata": {},
     "output_type": "display_data"
    }
   ],
   "source": [
    "some_digit = np.array(X.iloc[0])\n",
    "some_digit_image = some_digit.reshape(28,28)\n",
    "\n",
    "plt.imshow(some_digit_image, cmap='binary')\n",
    "plt.axis('off')\n",
    "plt.show()"
   ]
  },
  {
   "cell_type": "code",
   "execution_count": 5,
   "id": "179f0a4f-a301-4641-a523-dc816e1f2947",
   "metadata": {},
   "outputs": [
    {
     "data": {
      "text/plain": [
       "'5'"
      ]
     },
     "execution_count": 5,
     "metadata": {},
     "output_type": "execute_result"
    }
   ],
   "source": [
    "# Checking the corresponding label\n",
    "y[0]"
   ]
  },
  {
   "cell_type": "markdown",
   "id": "7687cec7-4b1f-448d-94bc-d8a8c2a45303",
   "metadata": {},
   "source": [
    "Most ML algorithm expects numbers, so we type cast the string labels to integers."
   ]
  },
  {
   "cell_type": "code",
   "execution_count": 6,
   "id": "78c7b672-b404-4805-8e91-f49d4e8c3429",
   "metadata": {},
   "outputs": [],
   "source": [
    "y = y.astype(np.uint8)"
   ]
  },
  {
   "cell_type": "markdown",
   "id": "fb92b02e-1c53-432c-9807-3da11c8bd9e1",
   "metadata": {},
   "source": [
    "## Creating a test set and training set\n",
    "\n",
    "The MNIST dataset is already split between training and testing sets. The first `60,000` items are training set, and the last `10,000` items are the testing set.<br>\n",
    "The training set is already shuffled, which is good because all cross-validation folds will be similar (you don't want one cross-validation fold to be missing some digits). Shuffling is also good in cases where the training model is sensitive to the order of training instances and may be skewed if it gets many similar instances ina row."
   ]
  },
  {
   "cell_type": "code",
   "execution_count": 7,
   "id": "1860319a-a2c2-48a0-834c-275693646706",
   "metadata": {},
   "outputs": [],
   "source": [
    "X_train, X_test, y_train, y_test = X[:60000], X[60000:], y[:60000], y[60000:]"
   ]
  },
  {
   "cell_type": "markdown",
   "id": "eeadaf3f-34c0-40be-b151-9fc19bd8dd68",
   "metadata": {},
   "source": [
    "## Training a Binary Classifier\n",
    "Training a classifier for a single number i.e. a detector for the number `7`"
   ]
  },
  {
   "cell_type": "code",
   "execution_count": 8,
   "id": "5279521f-7d54-476d-b566-47a31c6b1bea",
   "metadata": {},
   "outputs": [],
   "source": [
    "y_train_7 = (y_train == 7)\n",
    "y_test_7 = (y_test == 7)"
   ]
  },
  {
   "cell_type": "markdown",
   "id": "0a3217fc-85c9-45fe-aa7d-89ca471b9d16",
   "metadata": {},
   "source": [
    "A starting point can be the `Stochastic Gradient Descent` like the Scikit-learn SGDClassifier. This classifier has the advantage of being abl to handle large datasets efficiently.\n",
    "SGD deals with training instances independently which also makes it good for online training."
   ]
  },
  {
   "cell_type": "code",
   "execution_count": 9,
   "id": "72d2eafc-598a-447a-a8e5-0e9c52add567",
   "metadata": {},
   "outputs": [
    {
     "data": {
      "text/html": [
       "<style>#sk-container-id-1 {\n",
       "  /* Definition of color scheme common for light and dark mode */\n",
       "  --sklearn-color-text: black;\n",
       "  --sklearn-color-line: gray;\n",
       "  /* Definition of color scheme for unfitted estimators */\n",
       "  --sklearn-color-unfitted-level-0: #fff5e6;\n",
       "  --sklearn-color-unfitted-level-1: #f6e4d2;\n",
       "  --sklearn-color-unfitted-level-2: #ffe0b3;\n",
       "  --sklearn-color-unfitted-level-3: chocolate;\n",
       "  /* Definition of color scheme for fitted estimators */\n",
       "  --sklearn-color-fitted-level-0: #f0f8ff;\n",
       "  --sklearn-color-fitted-level-1: #d4ebff;\n",
       "  --sklearn-color-fitted-level-2: #b3dbfd;\n",
       "  --sklearn-color-fitted-level-3: cornflowerblue;\n",
       "\n",
       "  /* Specific color for light theme */\n",
       "  --sklearn-color-text-on-default-background: var(--sg-text-color, var(--theme-code-foreground, var(--jp-content-font-color1, black)));\n",
       "  --sklearn-color-background: var(--sg-background-color, var(--theme-background, var(--jp-layout-color0, white)));\n",
       "  --sklearn-color-border-box: var(--sg-text-color, var(--theme-code-foreground, var(--jp-content-font-color1, black)));\n",
       "  --sklearn-color-icon: #696969;\n",
       "\n",
       "  @media (prefers-color-scheme: dark) {\n",
       "    /* Redefinition of color scheme for dark theme */\n",
       "    --sklearn-color-text-on-default-background: var(--sg-text-color, var(--theme-code-foreground, var(--jp-content-font-color1, white)));\n",
       "    --sklearn-color-background: var(--sg-background-color, var(--theme-background, var(--jp-layout-color0, #111)));\n",
       "    --sklearn-color-border-box: var(--sg-text-color, var(--theme-code-foreground, var(--jp-content-font-color1, white)));\n",
       "    --sklearn-color-icon: #878787;\n",
       "  }\n",
       "}\n",
       "\n",
       "#sk-container-id-1 {\n",
       "  color: var(--sklearn-color-text);\n",
       "}\n",
       "\n",
       "#sk-container-id-1 pre {\n",
       "  padding: 0;\n",
       "}\n",
       "\n",
       "#sk-container-id-1 input.sk-hidden--visually {\n",
       "  border: 0;\n",
       "  clip: rect(1px 1px 1px 1px);\n",
       "  clip: rect(1px, 1px, 1px, 1px);\n",
       "  height: 1px;\n",
       "  margin: -1px;\n",
       "  overflow: hidden;\n",
       "  padding: 0;\n",
       "  position: absolute;\n",
       "  width: 1px;\n",
       "}\n",
       "\n",
       "#sk-container-id-1 div.sk-dashed-wrapped {\n",
       "  border: 1px dashed var(--sklearn-color-line);\n",
       "  margin: 0 0.4em 0.5em 0.4em;\n",
       "  box-sizing: border-box;\n",
       "  padding-bottom: 0.4em;\n",
       "  background-color: var(--sklearn-color-background);\n",
       "}\n",
       "\n",
       "#sk-container-id-1 div.sk-container {\n",
       "  /* jupyter's `normalize.less` sets `[hidden] { display: none; }`\n",
       "     but bootstrap.min.css set `[hidden] { display: none !important; }`\n",
       "     so we also need the `!important` here to be able to override the\n",
       "     default hidden behavior on the sphinx rendered scikit-learn.org.\n",
       "     See: https://github.com/scikit-learn/scikit-learn/issues/21755 */\n",
       "  display: inline-block !important;\n",
       "  position: relative;\n",
       "}\n",
       "\n",
       "#sk-container-id-1 div.sk-text-repr-fallback {\n",
       "  display: none;\n",
       "}\n",
       "\n",
       "div.sk-parallel-item,\n",
       "div.sk-serial,\n",
       "div.sk-item {\n",
       "  /* draw centered vertical line to link estimators */\n",
       "  background-image: linear-gradient(var(--sklearn-color-text-on-default-background), var(--sklearn-color-text-on-default-background));\n",
       "  background-size: 2px 100%;\n",
       "  background-repeat: no-repeat;\n",
       "  background-position: center center;\n",
       "}\n",
       "\n",
       "/* Parallel-specific style estimator block */\n",
       "\n",
       "#sk-container-id-1 div.sk-parallel-item::after {\n",
       "  content: \"\";\n",
       "  width: 100%;\n",
       "  border-bottom: 2px solid var(--sklearn-color-text-on-default-background);\n",
       "  flex-grow: 1;\n",
       "}\n",
       "\n",
       "#sk-container-id-1 div.sk-parallel {\n",
       "  display: flex;\n",
       "  align-items: stretch;\n",
       "  justify-content: center;\n",
       "  background-color: var(--sklearn-color-background);\n",
       "  position: relative;\n",
       "}\n",
       "\n",
       "#sk-container-id-1 div.sk-parallel-item {\n",
       "  display: flex;\n",
       "  flex-direction: column;\n",
       "}\n",
       "\n",
       "#sk-container-id-1 div.sk-parallel-item:first-child::after {\n",
       "  align-self: flex-end;\n",
       "  width: 50%;\n",
       "}\n",
       "\n",
       "#sk-container-id-1 div.sk-parallel-item:last-child::after {\n",
       "  align-self: flex-start;\n",
       "  width: 50%;\n",
       "}\n",
       "\n",
       "#sk-container-id-1 div.sk-parallel-item:only-child::after {\n",
       "  width: 0;\n",
       "}\n",
       "\n",
       "/* Serial-specific style estimator block */\n",
       "\n",
       "#sk-container-id-1 div.sk-serial {\n",
       "  display: flex;\n",
       "  flex-direction: column;\n",
       "  align-items: center;\n",
       "  background-color: var(--sklearn-color-background);\n",
       "  padding-right: 1em;\n",
       "  padding-left: 1em;\n",
       "}\n",
       "\n",
       "\n",
       "/* Toggleable style: style used for estimator/Pipeline/ColumnTransformer box that is\n",
       "clickable and can be expanded/collapsed.\n",
       "- Pipeline and ColumnTransformer use this feature and define the default style\n",
       "- Estimators will overwrite some part of the style using the `sk-estimator` class\n",
       "*/\n",
       "\n",
       "/* Pipeline and ColumnTransformer style (default) */\n",
       "\n",
       "#sk-container-id-1 div.sk-toggleable {\n",
       "  /* Default theme specific background. It is overwritten whether we have a\n",
       "  specific estimator or a Pipeline/ColumnTransformer */\n",
       "  background-color: var(--sklearn-color-background);\n",
       "}\n",
       "\n",
       "/* Toggleable label */\n",
       "#sk-container-id-1 label.sk-toggleable__label {\n",
       "  cursor: pointer;\n",
       "  display: block;\n",
       "  width: 100%;\n",
       "  margin-bottom: 0;\n",
       "  padding: 0.5em;\n",
       "  box-sizing: border-box;\n",
       "  text-align: center;\n",
       "}\n",
       "\n",
       "#sk-container-id-1 label.sk-toggleable__label-arrow:before {\n",
       "  /* Arrow on the left of the label */\n",
       "  content: \"▸\";\n",
       "  float: left;\n",
       "  margin-right: 0.25em;\n",
       "  color: var(--sklearn-color-icon);\n",
       "}\n",
       "\n",
       "#sk-container-id-1 label.sk-toggleable__label-arrow:hover:before {\n",
       "  color: var(--sklearn-color-text);\n",
       "}\n",
       "\n",
       "/* Toggleable content - dropdown */\n",
       "\n",
       "#sk-container-id-1 div.sk-toggleable__content {\n",
       "  max-height: 0;\n",
       "  max-width: 0;\n",
       "  overflow: hidden;\n",
       "  text-align: left;\n",
       "  /* unfitted */\n",
       "  background-color: var(--sklearn-color-unfitted-level-0);\n",
       "}\n",
       "\n",
       "#sk-container-id-1 div.sk-toggleable__content.fitted {\n",
       "  /* fitted */\n",
       "  background-color: var(--sklearn-color-fitted-level-0);\n",
       "}\n",
       "\n",
       "#sk-container-id-1 div.sk-toggleable__content pre {\n",
       "  margin: 0.2em;\n",
       "  border-radius: 0.25em;\n",
       "  color: var(--sklearn-color-text);\n",
       "  /* unfitted */\n",
       "  background-color: var(--sklearn-color-unfitted-level-0);\n",
       "}\n",
       "\n",
       "#sk-container-id-1 div.sk-toggleable__content.fitted pre {\n",
       "  /* unfitted */\n",
       "  background-color: var(--sklearn-color-fitted-level-0);\n",
       "}\n",
       "\n",
       "#sk-container-id-1 input.sk-toggleable__control:checked~div.sk-toggleable__content {\n",
       "  /* Expand drop-down */\n",
       "  max-height: 200px;\n",
       "  max-width: 100%;\n",
       "  overflow: auto;\n",
       "}\n",
       "\n",
       "#sk-container-id-1 input.sk-toggleable__control:checked~label.sk-toggleable__label-arrow:before {\n",
       "  content: \"▾\";\n",
       "}\n",
       "\n",
       "/* Pipeline/ColumnTransformer-specific style */\n",
       "\n",
       "#sk-container-id-1 div.sk-label input.sk-toggleable__control:checked~label.sk-toggleable__label {\n",
       "  color: var(--sklearn-color-text);\n",
       "  background-color: var(--sklearn-color-unfitted-level-2);\n",
       "}\n",
       "\n",
       "#sk-container-id-1 div.sk-label.fitted input.sk-toggleable__control:checked~label.sk-toggleable__label {\n",
       "  background-color: var(--sklearn-color-fitted-level-2);\n",
       "}\n",
       "\n",
       "/* Estimator-specific style */\n",
       "\n",
       "/* Colorize estimator box */\n",
       "#sk-container-id-1 div.sk-estimator input.sk-toggleable__control:checked~label.sk-toggleable__label {\n",
       "  /* unfitted */\n",
       "  background-color: var(--sklearn-color-unfitted-level-2);\n",
       "}\n",
       "\n",
       "#sk-container-id-1 div.sk-estimator.fitted input.sk-toggleable__control:checked~label.sk-toggleable__label {\n",
       "  /* fitted */\n",
       "  background-color: var(--sklearn-color-fitted-level-2);\n",
       "}\n",
       "\n",
       "#sk-container-id-1 div.sk-label label.sk-toggleable__label,\n",
       "#sk-container-id-1 div.sk-label label {\n",
       "  /* The background is the default theme color */\n",
       "  color: var(--sklearn-color-text-on-default-background);\n",
       "}\n",
       "\n",
       "/* On hover, darken the color of the background */\n",
       "#sk-container-id-1 div.sk-label:hover label.sk-toggleable__label {\n",
       "  color: var(--sklearn-color-text);\n",
       "  background-color: var(--sklearn-color-unfitted-level-2);\n",
       "}\n",
       "\n",
       "/* Label box, darken color on hover, fitted */\n",
       "#sk-container-id-1 div.sk-label.fitted:hover label.sk-toggleable__label.fitted {\n",
       "  color: var(--sklearn-color-text);\n",
       "  background-color: var(--sklearn-color-fitted-level-2);\n",
       "}\n",
       "\n",
       "/* Estimator label */\n",
       "\n",
       "#sk-container-id-1 div.sk-label label {\n",
       "  font-family: monospace;\n",
       "  font-weight: bold;\n",
       "  display: inline-block;\n",
       "  line-height: 1.2em;\n",
       "}\n",
       "\n",
       "#sk-container-id-1 div.sk-label-container {\n",
       "  text-align: center;\n",
       "}\n",
       "\n",
       "/* Estimator-specific */\n",
       "#sk-container-id-1 div.sk-estimator {\n",
       "  font-family: monospace;\n",
       "  border: 1px dotted var(--sklearn-color-border-box);\n",
       "  border-radius: 0.25em;\n",
       "  box-sizing: border-box;\n",
       "  margin-bottom: 0.5em;\n",
       "  /* unfitted */\n",
       "  background-color: var(--sklearn-color-unfitted-level-0);\n",
       "}\n",
       "\n",
       "#sk-container-id-1 div.sk-estimator.fitted {\n",
       "  /* fitted */\n",
       "  background-color: var(--sklearn-color-fitted-level-0);\n",
       "}\n",
       "\n",
       "/* on hover */\n",
       "#sk-container-id-1 div.sk-estimator:hover {\n",
       "  /* unfitted */\n",
       "  background-color: var(--sklearn-color-unfitted-level-2);\n",
       "}\n",
       "\n",
       "#sk-container-id-1 div.sk-estimator.fitted:hover {\n",
       "  /* fitted */\n",
       "  background-color: var(--sklearn-color-fitted-level-2);\n",
       "}\n",
       "\n",
       "/* Specification for estimator info (e.g. \"i\" and \"?\") */\n",
       "\n",
       "/* Common style for \"i\" and \"?\" */\n",
       "\n",
       ".sk-estimator-doc-link,\n",
       "a:link.sk-estimator-doc-link,\n",
       "a:visited.sk-estimator-doc-link {\n",
       "  float: right;\n",
       "  font-size: smaller;\n",
       "  line-height: 1em;\n",
       "  font-family: monospace;\n",
       "  background-color: var(--sklearn-color-background);\n",
       "  border-radius: 1em;\n",
       "  height: 1em;\n",
       "  width: 1em;\n",
       "  text-decoration: none !important;\n",
       "  margin-left: 1ex;\n",
       "  /* unfitted */\n",
       "  border: var(--sklearn-color-unfitted-level-1) 1pt solid;\n",
       "  color: var(--sklearn-color-unfitted-level-1);\n",
       "}\n",
       "\n",
       ".sk-estimator-doc-link.fitted,\n",
       "a:link.sk-estimator-doc-link.fitted,\n",
       "a:visited.sk-estimator-doc-link.fitted {\n",
       "  /* fitted */\n",
       "  border: var(--sklearn-color-fitted-level-1) 1pt solid;\n",
       "  color: var(--sklearn-color-fitted-level-1);\n",
       "}\n",
       "\n",
       "/* On hover */\n",
       "div.sk-estimator:hover .sk-estimator-doc-link:hover,\n",
       ".sk-estimator-doc-link:hover,\n",
       "div.sk-label-container:hover .sk-estimator-doc-link:hover,\n",
       ".sk-estimator-doc-link:hover {\n",
       "  /* unfitted */\n",
       "  background-color: var(--sklearn-color-unfitted-level-3);\n",
       "  color: var(--sklearn-color-background);\n",
       "  text-decoration: none;\n",
       "}\n",
       "\n",
       "div.sk-estimator.fitted:hover .sk-estimator-doc-link.fitted:hover,\n",
       ".sk-estimator-doc-link.fitted:hover,\n",
       "div.sk-label-container:hover .sk-estimator-doc-link.fitted:hover,\n",
       ".sk-estimator-doc-link.fitted:hover {\n",
       "  /* fitted */\n",
       "  background-color: var(--sklearn-color-fitted-level-3);\n",
       "  color: var(--sklearn-color-background);\n",
       "  text-decoration: none;\n",
       "}\n",
       "\n",
       "/* Span, style for the box shown on hovering the info icon */\n",
       ".sk-estimator-doc-link span {\n",
       "  display: none;\n",
       "  z-index: 9999;\n",
       "  position: relative;\n",
       "  font-weight: normal;\n",
       "  right: .2ex;\n",
       "  padding: .5ex;\n",
       "  margin: .5ex;\n",
       "  width: min-content;\n",
       "  min-width: 20ex;\n",
       "  max-width: 50ex;\n",
       "  color: var(--sklearn-color-text);\n",
       "  box-shadow: 2pt 2pt 4pt #999;\n",
       "  /* unfitted */\n",
       "  background: var(--sklearn-color-unfitted-level-0);\n",
       "  border: .5pt solid var(--sklearn-color-unfitted-level-3);\n",
       "}\n",
       "\n",
       ".sk-estimator-doc-link.fitted span {\n",
       "  /* fitted */\n",
       "  background: var(--sklearn-color-fitted-level-0);\n",
       "  border: var(--sklearn-color-fitted-level-3);\n",
       "}\n",
       "\n",
       ".sk-estimator-doc-link:hover span {\n",
       "  display: block;\n",
       "}\n",
       "\n",
       "/* \"?\"-specific style due to the `<a>` HTML tag */\n",
       "\n",
       "#sk-container-id-1 a.estimator_doc_link {\n",
       "  float: right;\n",
       "  font-size: 1rem;\n",
       "  line-height: 1em;\n",
       "  font-family: monospace;\n",
       "  background-color: var(--sklearn-color-background);\n",
       "  border-radius: 1rem;\n",
       "  height: 1rem;\n",
       "  width: 1rem;\n",
       "  text-decoration: none;\n",
       "  /* unfitted */\n",
       "  color: var(--sklearn-color-unfitted-level-1);\n",
       "  border: var(--sklearn-color-unfitted-level-1) 1pt solid;\n",
       "}\n",
       "\n",
       "#sk-container-id-1 a.estimator_doc_link.fitted {\n",
       "  /* fitted */\n",
       "  border: var(--sklearn-color-fitted-level-1) 1pt solid;\n",
       "  color: var(--sklearn-color-fitted-level-1);\n",
       "}\n",
       "\n",
       "/* On hover */\n",
       "#sk-container-id-1 a.estimator_doc_link:hover {\n",
       "  /* unfitted */\n",
       "  background-color: var(--sklearn-color-unfitted-level-3);\n",
       "  color: var(--sklearn-color-background);\n",
       "  text-decoration: none;\n",
       "}\n",
       "\n",
       "#sk-container-id-1 a.estimator_doc_link.fitted:hover {\n",
       "  /* fitted */\n",
       "  background-color: var(--sklearn-color-fitted-level-3);\n",
       "}\n",
       "</style><div id=\"sk-container-id-1\" class=\"sk-top-container\"><div class=\"sk-text-repr-fallback\"><pre>SGDClassifier(random_state=42)</pre><b>In a Jupyter environment, please rerun this cell to show the HTML representation or trust the notebook. <br />On GitHub, the HTML representation is unable to render, please try loading this page with nbviewer.org.</b></div><div class=\"sk-container\" hidden><div class=\"sk-item\"><div class=\"sk-estimator fitted sk-toggleable\"><input class=\"sk-toggleable__control sk-hidden--visually\" id=\"sk-estimator-id-1\" type=\"checkbox\" checked><label for=\"sk-estimator-id-1\" class=\"sk-toggleable__label fitted sk-toggleable__label-arrow fitted\">&nbsp;&nbsp;SGDClassifier<a class=\"sk-estimator-doc-link fitted\" rel=\"noreferrer\" target=\"_blank\" href=\"https://scikit-learn.org/1.4/modules/generated/sklearn.linear_model.SGDClassifier.html\">?<span>Documentation for SGDClassifier</span></a><span class=\"sk-estimator-doc-link fitted\">i<span>Fitted</span></span></label><div class=\"sk-toggleable__content fitted\"><pre>SGDClassifier(random_state=42)</pre></div> </div></div></div></div>"
      ],
      "text/plain": [
       "SGDClassifier(random_state=42)"
      ]
     },
     "execution_count": 9,
     "metadata": {},
     "output_type": "execute_result"
    }
   ],
   "source": [
    "sgd_clf = SGDClassifier(max_iter=1000, tol=1e-3, random_state=42)\n",
    "sgd_clf.fit(X_train, y_train_7)"
   ]
  },
  {
   "cell_type": "code",
   "execution_count": 10,
   "id": "57ff721b-5a9e-47f7-a2a0-fec1e5540021",
   "metadata": {},
   "outputs": [
    {
     "name": "stderr",
     "output_type": "stream",
     "text": [
      "/home/cmmasaba/anaconda3/lib/python3.12/site-packages/sklearn/base.py:493: UserWarning: X does not have valid feature names, but SGDClassifier was fitted with feature names\n",
      "  warnings.warn(\n"
     ]
    },
    {
     "data": {
      "text/plain": [
       "array([False])"
      ]
     },
     "execution_count": 10,
     "metadata": {},
     "output_type": "execute_result"
    }
   ],
   "source": [
    "sgd_clf.predict([some_digit])"
   ]
  },
  {
   "cell_type": "markdown",
   "id": "2a352057-6809-49f5-ad73-1e6f60cb8800",
   "metadata": {},
   "source": [
    "## Performance Measures"
   ]
  },
  {
   "cell_type": "markdown",
   "id": "808ec8ec-3492-440a-ba0a-33e42d920079",
   "metadata": {},
   "source": [
    "### Measuring accuracy using cross-validation\n",
    "In some cases the cross-validation function offered by Scikit-learn may be insufficient for you needs, it is possible to implement a custom cross-validation function. Check the book for more details.<br>\n",
    "K-fold cross-validation involves splitting the training set into K folds, then making predictions and evaluating them on each fold using a model trained on the remaining K folds."
   ]
  },
  {
   "cell_type": "code",
   "execution_count": 11,
   "id": "3261d31e-eb03-478d-8027-16eed8c8fc4a",
   "metadata": {},
   "outputs": [
    {
     "data": {
      "text/plain": [
       "array([0.98105, 0.9735 , 0.95335])"
      ]
     },
     "execution_count": 11,
     "metadata": {},
     "output_type": "execute_result"
    }
   ],
   "source": [
    "cross_val_score(sgd_clf, X_train, y_train_7, cv=3, scoring=\"accuracy\")"
   ]
  },
  {
   "cell_type": "markdown",
   "id": "23eea0b1-2469-4b90-8a8a-f92d038406e6",
   "metadata": {},
   "source": [
    "The cross-validation scores above show the model to have an accuracy of above 95% on each fold. Using accuracy is not a good performance measure for classifiers especially when dealing with skewed datasets (some classes appear more than others)."
   ]
  },
  {
   "cell_type": "markdown",
   "id": "19d118d5-f7da-4d5d-8e9d-ea32387d49af",
   "metadata": {},
   "source": [
    "## Confusion Matrix\n",
    "Offers a better way of evaluating a classifier's performance. It aims to show how many times instances of class A were classified as instances of class B. To compute a confusion matrix you need a set of predictions that can be compared to actual values, to get the set of prections we can use the `cross_val_predict`. `cross_val_predict` performs K-fold validation but instead of returning validation scores it returns the predictions made on each fold."
   ]
  },
  {
   "cell_type": "code",
   "execution_count": 12,
   "id": "f24f8357-7b0c-4dac-9071-c6bf4b864fa9",
   "metadata": {},
   "outputs": [],
   "source": [
    "y_train_pred = cross_val_predict(sgd_clf, X_train, y_train_7, cv=3)"
   ]
  },
  {
   "cell_type": "markdown",
   "id": "6db5a24c-b54e-4ac2-8750-a15d4ea48749",
   "metadata": {},
   "source": [
    "To get the confusion matrix use `confusion_matrix` function, passing it the target class and the predicted classes."
   ]
  },
  {
   "cell_type": "code",
   "execution_count": 13,
   "id": "cd0b7ff6-ee84-487b-8bb5-8db04033e869",
   "metadata": {},
   "outputs": [
    {
     "data": {
      "text/plain": [
       "array([[52581,  1154],\n",
       "       [  688,  5577]])"
      ]
     },
     "execution_count": 13,
     "metadata": {},
     "output_type": "execute_result"
    }
   ],
   "source": [
    "confusion_matrix(y_train_7, y_train_pred)"
   ]
  },
  {
   "cell_type": "markdown",
   "id": "06452982-4efe-4d56-974b-b103ff4e645d",
   "metadata": {},
   "source": [
    "Each row in a confusion matrix represents an `actual class` and each column represnts a `predicted class`.<br>\n",
    "The first row in the matrix above considers `non-7` images (negative class). 52581 were correctly identified as not 7 (`true negatives`) while 1154 were incorrectly identified as 7 (`false positives`).<br>\n",
    "The second row considers images of 7 (positive class). 688 were incorrectly identified as not 7 (`false negatives`) while 5577 images were correctly identified as 7s (`true positives`)<br>"
   ]
  },
  {
   "cell_type": "markdown",
   "id": "d977059e-661d-44b0-8e9e-14059e8c4485",
   "metadata": {},
   "source": [
    "A perfect classifier would have only true negatives and true positives hence having non-zero values only on its main diagonal (top left to bottom right)."
   ]
  },
  {
   "cell_type": "code",
   "execution_count": 14,
   "id": "86632d97-cd98-451b-a3c7-f11d9bfe2ae5",
   "metadata": {},
   "outputs": [
    {
     "data": {
      "text/plain": [
       "array([[53735,     0],\n",
       "       [    0,  6265]])"
      ]
     },
     "execution_count": 14,
     "metadata": {},
     "output_type": "execute_result"
    }
   ],
   "source": [
    "## Example of confusion matrix for a perfect classifier\n",
    "y_train_perfect_pred = y_train_7 # assume we have a trained a perfect classifier\n",
    "confusion_matrix(y_train_7, y_train_perfect_pred)"
   ]
  },
  {
   "cell_type": "markdown",
   "id": "a2e15844-43db-43dd-a9ee-a8598e81426c",
   "metadata": {},
   "source": [
    "The confusion matrix can be used to derive more concise metrics, specifically `precision` and `recall` that are used alongside each other.<br>\n",
    "`Precision` is the accuracy of positive predictions. It is given by True postives/(True positives + False positives)<br>\n",
    "`Recall` is the ratio of positive instances correctly detected by the classifier. It is given by True positives/(True positives + False Negatives)"
   ]
  },
  {
   "cell_type": "code",
   "execution_count": 15,
   "id": "788603d3-22a2-48d9-be1d-29476173a6ac",
   "metadata": {},
   "outputs": [
    {
     "data": {
      "text/plain": [
       "0.8285544495617293"
      ]
     },
     "execution_count": 15,
     "metadata": {},
     "output_type": "execute_result"
    }
   ],
   "source": [
    "precision_score(y_train_7, y_train_pred)"
   ]
  },
  {
   "cell_type": "code",
   "execution_count": 16,
   "id": "96427320-62b9-45de-a106-e86f4a4d61c9",
   "metadata": {},
   "outputs": [
    {
     "data": {
      "text/plain": [
       "0.8901835594573024"
      ]
     },
     "execution_count": 16,
     "metadata": {},
     "output_type": "execute_result"
    }
   ],
   "source": [
    "recall_score(y_train_7, y_train_pred)"
   ]
  },
  {
   "cell_type": "markdown",
   "id": "b42d27d0-0176-41c5-9707-48a56735c782",
   "metadata": {},
   "source": [
    "From the scores above, when the classifier claims an image is 7 it is accurate only 82.85% of the time. Moreover, it only detects 89.01% of all 7s. These metrics don't look so good as it were when accuracy was used to measure performance."
   ]
  },
  {
   "cell_type": "markdown",
   "id": "d32cf487-71c5-45c7-b82c-8923baac457d",
   "metadata": {},
   "source": [
    "It might be convenient sometimes to combine the precision and recall scores to get a new score called F1 score. It is especially useful when comparing two classifiers. F1 score is the harmonic mean of precision and recall.<br>\n",
    "The classifier only gets a high F1 score if both the precision and recall scores are high."
   ]
  },
  {
   "cell_type": "code",
   "execution_count": 17,
   "id": "1b66bf5c-3e36-4163-bb18-30305e03fcbb",
   "metadata": {},
   "outputs": [
    {
     "data": {
      "text/plain": [
       "0.858264081255771"
      ]
     },
     "execution_count": 17,
     "metadata": {},
     "output_type": "execute_result"
    }
   ],
   "source": [
    "f1_score(y_train_7, y_train_pred)"
   ]
  },
  {
   "cell_type": "markdown",
   "id": "9c49757b-2390-45e1-99fa-04793009b8c8",
   "metadata": {},
   "source": [
    "Increasing precision reduces recall, and vice versa. This is called the `precision/recall trade-off`"
   ]
  },
  {
   "cell_type": "markdown",
   "id": "235c184d-1f7c-4bfa-b6da-27d07b556bec",
   "metadata": {},
   "source": [
    "The precision/recall trade-off is determined by which the threshold the classifier uses to categorize instances as positive or negative. To decide which threshold to use:\n",
    "- Use cross_val_predict to get the scores for each instance by specifying it to return decision scores instead of predicted values\n",
    "- With those scores, use the `precision_recall_curve` function to compute precision and recalls for all possible thresholds.\n",
    "- Plot precision and recall as functions of the threshold value. Or plot precision against the recall value.\n",
    "  "
   ]
  },
  {
   "cell_type": "code",
   "execution_count": 18,
   "id": "4ad96cfb-033b-48c9-95fa-56493d671631",
   "metadata": {},
   "outputs": [],
   "source": [
    "y_scores = cross_val_predict(sgd_clf, X_train, y_train_7, cv=3, method=\"decision_function\")"
   ]
  },
  {
   "cell_type": "code",
   "execution_count": 66,
   "id": "898fdd67-bded-40c8-ab8c-8b726f4ba986",
   "metadata": {},
   "outputs": [],
   "source": [
    "precisions, recalls, thresholds = precision_recall_curve(y_train_7, y_scores)"
   ]
  },
  {
   "cell_type": "code",
   "execution_count": 72,
   "id": "4549fd9f-b159-4336-8297-df8213afbfd6",
   "metadata": {},
   "outputs": [
    {
     "data": {
      "image/png": "[encoded data removed]",
      "text/plain": [
       "<Figure size 800x400 with 1 Axes>"
      ]
     },
     "metadata": {},
     "output_type": "display_data"
    }
   ],
   "source": [
    "def plot_precision_recall_vs_threshold(precisions, recalls, thresholds):\n",
    "    plt.plot(thresholds, precisions[:-1], \"b--\", label=\"Precision\", linewidth=2)\n",
    "    plt.plot(thresholds, recalls[:-1], \"g-\", label=\"Recall\", linewidth=2)\n",
    "    plt.legend(loc=\"center right\", fontsize=16)\n",
    "    plt.xlabel(\"Threshold\", fontsize=16)\n",
    "    plt.grid(True)\n",
    "    plt.axis([-50000, 50000, 0, 1.1])\n",
    "\n",
    "\n",
    "# Suppose you are aiming for 90% precision\n",
    "# Search for the lowest threshold that gives you 90% precision.\n",
    "recall_90_precision = recalls[np.argmax(precisions >= 0.90)]\n",
    "threshold_90_precision = thresholds[np.argmax(precisions >= 0.90)]\n",
    "\n",
    "\n",
    "plt.figure(figsize=(8, 4))\n",
    "plot_precision_recall_vs_threshold(precisions, recalls, thresholds)\n",
    "plt.plot([threshold_90_precision, threshold_90_precision], [0., 0.9], \"r:\")\n",
    "plt.plot([-50000, threshold_90_precision], [0.9, 0.9], \"r:\")\n",
    "plt.plot([-50000, threshold_90_precision], [recall_90_precision, recall_90_precision], \"r:\")\n",
    "plt.plot([threshold_90_precision], [0.9], \"ro\")\n",
    "plt.plot([threshold_90_precision], [recall_90_precision], \"ro\")\n",
    "plt.show()"
   ]
  },
  {
   "cell_type": "markdown",
   "id": "616482b4-9fc5-44ea-b965-eb65c23122ad",
   "metadata": {},
   "source": [
    "Another way to select a precision/recall tradeoff is by plotting precision directly against recall."
   ]
  },
  {
   "cell_type": "code",
   "execution_count": 33,
   "id": "1b7aac4f-18a2-454f-9237-91e01cf35e8f",
   "metadata": {},
   "outputs": [
    {
     "data": {
      "image/png": "[encoded data removed]",
      "text/plain": [
       "<Figure size 800x600 with 1 Axes>"
      ]
     },
     "metadata": {},
     "output_type": "display_data"
    }
   ],
   "source": [
    "def plot_precision_vs_recall(precisions, recalls):\n",
    "    plt.plot(recalls, precisions, \"b-\", linewidth=2)\n",
    "    plt.xlabel(\"Recall\", fontsize=16)\n",
    "    plt.ylabel(\"Precision\", fontsize=16)\n",
    "    plt.axis([0, 1, 0, 1])\n",
    "    plt.grid(True)\n",
    "\n",
    "plt.figure(figsize=(8, 6))\n",
    "plot_precision_vs_recall(precisions, recalls)\n",
    "plt.plot([recall_90_precision, recall_90_precision], [0., 0.9], \"r:\")\n",
    "plt.plot([0.0, recall_90_precision], [0.9, 0.9], \"r:\")\n",
    "plt.plot([recall_90_precision], [0.9], \"ro\")\n",
    "plt.show()"
   ]
  },
  {
   "cell_type": "markdown",
   "id": "271e9892-a4b0-49c0-b142-895a07eacc68",
   "metadata": {},
   "source": [
    "The plot above shows precision starts falling off sharply at around 80% - 85% recall. It would then be optimal to select a precision/recall tradeoff just around that range mark."
   ]
  },
  {
   "cell_type": "markdown",
   "id": "d29aa437-4f77-4293-8bcc-5e6b0ef87ef1",
   "metadata": {},
   "source": [
    "Examining the recall of a classifier using 90% accuracy."
   ]
  },
  {
   "cell_type": "code",
   "execution_count": 34,
   "id": "ca8b77ac-8eac-4049-af2b-76da99ebd8a0",
   "metadata": {},
   "outputs": [],
   "source": [
    "y_train_pred_90 = (y_scores >= threshold_90_precision)"
   ]
  },
  {
   "cell_type": "code",
   "execution_count": 35,
   "id": "5e8146ba-3355-492a-949c-dd796d6e9d4f",
   "metadata": {},
   "outputs": [
    {
     "data": {
      "text/plain": [
       "0.9000864304235091"
      ]
     },
     "execution_count": 35,
     "metadata": {},
     "output_type": "execute_result"
    }
   ],
   "source": [
    "precision_score(y_train_7, y_train_pred_90)"
   ]
  },
  {
   "cell_type": "code",
   "execution_count": 36,
   "id": "0aa09fd9-37b2-4835-80f9-ee4866cac56d",
   "metadata": {},
   "outputs": [
    {
     "data": {
      "text/plain": [
       "0.8311252992817239"
      ]
     },
     "execution_count": 36,
     "metadata": {},
     "output_type": "execute_result"
    }
   ],
   "source": [
    "recall_score(y_train_7, y_train_pred_90)"
   ]
  },
  {
   "cell_type": "markdown",
   "id": "d617604f-901a-4c08-ab13-be2bed6406d8",
   "metadata": {},
   "source": [
    "### The ROC Curve\n",
    "The `receiver operating characteristic` curve is another metric used for binary classifiers. It is similar to the precision/recall curve except that is plots the `true positive rate (recall)` vs the `false positive rate`. The false positive rate is the ratio of negative instances that are incorrectly classified as positive."
   ]
  },
  {
   "cell_type": "code",
   "execution_count": 58,
   "id": "ffe3fa43-e599-4ce7-a935-0418bcdd9861",
   "metadata": {},
   "outputs": [],
   "source": [
    "fpr, tpr, thresholds = roc_curve(y_train_7, y_scores)"
   ]
  },
  {
   "cell_type": "code",
   "execution_count": 84,
   "id": "5844f4b9-104d-473d-be4a-662c47c57748",
   "metadata": {},
   "outputs": [
    {
     "data": {
      "image/png": "[encoded data removed]",
      "text/plain": [
       "<Figure size 800x600 with 1 Axes>"
      ]
     },
     "metadata": {},
     "output_type": "display_data"
    }
   ],
   "source": [
    "def plot_roc_curve(fpr, tpr, label=None):\n",
    "    plt.plot(fpr, tpr, label=label)\n",
    "    plt.plot([0,1], [0,1], 'k--')\n",
    "    plt.xlabel(\"False Positive Rate (Fall Out)\", fontsize=16)\n",
    "    plt.ylabel(\"True Positive Rate (Recall)\", fontsize=16)\n",
    "    plt.axis([0, 1, 0, 1])\n",
    "    plt.grid(True)\n",
    "\n",
    "plt.figure(figsize=(8, 6))\n",
    "plot_roc_curve(fpr, tpr)\n",
    "fpr_90 = fpr[np.argmax(tpr >= recall_90_precision)]\n",
    "plt.plot([fpr_90, fpr_90], [0., recall_90_precision], \"r:\")\n",
    "plt.plot([0.0, fpr_90], [recall_90_precision, recall_90_precision], \"r:\")\n",
    "plt.plot([fpr_90], [recall_90_precision], \"ro\")\n",
    "plt.show()"
   ]
  },
  {
   "cell_type": "markdown",
   "id": "1ec50cef-2410-42df-a2c6-ef318af5a6ea",
   "metadata": {},
   "source": [
    "Once again there is a tradeoff: the higher the recall (TPR) the more the false positives (FPR) the classifier produces.<br>\n",
    "The dotted diagonal line shows the ROC curve of a purely random classifier. A good classifier stays a far away from this dotted line as possible (towards the top left corner)."
   ]
  },
  {
   "cell_type": "markdown",
   "id": "cd6b0ed7-2516-4afb-b817-686de932838b",
   "metadata": {},
   "source": [
    "Classifiers can also be compared by measuring the `Area Under Curve (AUC)`. A perfect classifier will have an ROC AUC equal 1, whereas a purely random classifier will have an ROC AUC equal 0.5."
   ]
  },
  {
   "cell_type": "code",
   "execution_count": 53,
   "id": "fdc2485b-6992-4614-bc4a-f6a5892a581f",
   "metadata": {},
   "outputs": [
    {
     "data": {
      "text/plain": [
       "0.986670497551944"
      ]
     },
     "execution_count": 53,
     "metadata": {},
     "output_type": "execute_result"
    }
   ],
   "source": [
    "roc_auc_score(y_train_7, y_scores)"
   ]
  },
  {
   "cell_type": "markdown",
   "id": "7b9cdc7c-7f8d-4bed-ae9d-a8abb8916435",
   "metadata": {},
   "source": [
    "#### When to use the ROC or P/R curves\n",
    "The ROC and P/R curve are pretty similar. A good rule of thumb on when to use which curve: use the P/R curve when the positive class is rare or you are more concerned about false positives than false negatives. Otherwise use the ROC curve and ROC AUC score."
   ]
  },
  {
   "cell_type": "markdown",
   "id": "a1584498-8c95-4cf7-a2ae-4c622ff3fca4",
   "metadata": {},
   "source": [
    "#### Training a Random Forest classifier and comparing its ROC and AUC to the SGDClassifier"
   ]
  },
  {
   "cell_type": "code",
   "execution_count": 81,
   "id": "265a2599-7b72-4c2b-ae56-be0328aa46d8",
   "metadata": {},
   "outputs": [],
   "source": [
    "forest_clf = RandomForestClassifier(random_state=42)\n",
    "y_probas_forest = cross_val_predict(forest_clf, X_train, y_train_7, cv=3, method='predict_proba')\n",
    "\n",
    "y_scores_forest = y_probas_forest[:, 1]  # score = proba of positive class\n",
    "fpr_forest, tpr_forest, threshold = roc_curve(y_train_7, y_scores_forest)"
   ]
  },
  {
   "cell_type": "code",
   "execution_count": 80,
   "id": "7303e7ae-5a2f-4156-8801-03d2af9f97d4",
   "metadata": {},
   "outputs": [
    {
     "data": {
      "image/png": "[encoded data removed]",
      "text/plain": [
       "<Figure size 1000x600 with 1 Axes>"
      ]
     },
     "metadata": {},
     "output_type": "display_data"
    }
   ],
   "source": [
    "plt.figure(figsize=(10, 6))\n",
    "plt.plot(fpr, tpr, \"b:\", label=\"SGD\")\n",
    "plt.plot(fpr_forest, tpr_forest, label=\"Random Forest\")\n",
    "plt.plot([0,1], [0,1], 'k--')\n",
    "plt.axis([0, 1, 0, 1])\n",
    "plt.grid(True)\n",
    "plt.legend(loc=\"lower right\")\n",
    "plt.show()"
   ]
  },
  {
   "cell_type": "markdown",
   "id": "5b8177df-ce65-4a90-b93e-d3f599a3971f",
   "metadata": {},
   "source": [
    "Compare the ROC AUC score of the RandomFOrestClaasifier model"
   ]
  },
  {
   "cell_type": "code",
   "execution_count": 83,
   "id": "b6a8fec2-fae7-481e-ae11-4b86dfedbecc",
   "metadata": {},
   "outputs": [
    {
     "data": {
      "text/plain": [
       "0.9982747530426836"
      ]
     },
     "execution_count": 83,
     "metadata": {},
     "output_type": "execute_result"
    }
   ],
   "source": [
    "roc_auc_score(y_train_7, y_scores_forest)"
   ]
  },
  {
   "cell_type": "code",
   "execution_count": 90,
   "id": "69cc5364-aaac-4836-ab1f-3f9e6e4e690a",
   "metadata": {},
   "outputs": [],
   "source": [
    "y_train_pred_forest = cross_val_predict(forest_clf, X_train, y_train_7, cv=3)"
   ]
  },
  {
   "cell_type": "code",
   "execution_count": 91,
   "id": "03b306ee-71f4-40d6-94eb-1e25d9cc6303",
   "metadata": {},
   "outputs": [
    {
     "data": {
      "text/plain": [
       "0.9867364746945899"
      ]
     },
     "execution_count": 91,
     "metadata": {},
     "output_type": "execute_result"
    }
   ],
   "source": [
    "precision_score(y_train_7, y_train_pred_forest)"
   ]
  },
  {
   "cell_type": "code",
   "execution_count": 92,
   "id": "1426c8a8-ba04-4254-b938-0f5430ac7b8d",
   "metadata": {},
   "outputs": [
    {
     "data": {
      "text/plain": [
       "0.9024740622505986"
      ]
     },
     "execution_count": 92,
     "metadata": {},
     "output_type": "execute_result"
    }
   ],
   "source": [
    "recall_score(y_train_7, y_train_pred_forest)"
   ]
  },
  {
   "cell_type": "markdown",
   "id": "b890db8f-21ff-4de2-9cea-2afafdc54469",
   "metadata": {},
   "source": [
    "The RandomForestClassifier model outperforms the Binary Classifier on all the metrics above: precision, recall, roc_auc."
   ]
  },
  {
   "cell_type": "markdown",
   "id": "d679b893-a0b2-406d-afc8-4ecf229032da",
   "metadata": {},
   "source": [
    "## Multiclass Classification"
   ]
  },
  {
   "cell_type": "markdown",
   "id": "a9b89e72-5c7e-4f1d-9c0f-0375a51109d0",
   "metadata": {},
   "source": [
    "Multiclass/Multinomial classifiers can distinguish between more than two classifiers.<br>\n",
    "There are some strategies for using binary classifiers to do multiclass classification. Such as:\n",
    "- one-versus-the-rest (OVR) strategy\n",
    "- one-versus-one (OVO) strategy\n",
    "For models that scale poorly with the training set size, OVO is preferred since it is easier to train many smaller models than to train few large models.<br>\n",
    "Scikit-learn can determine when you're using binary classification for multicalss classification, and automatically run OVR or OVO."
   ]
  },
  {
   "cell_type": "markdown",
   "id": "49030878-78d9-4719-9344-e9375d83b089",
   "metadata": {},
   "source": [
    "#### Support Vector Machine classifier"
   ]
  },
  {
   "cell_type": "code",
   "execution_count": 97,
   "id": "23718de5-bb69-4bc1-9acf-0efc936ada14",
   "metadata": {},
   "outputs": [
    {
     "name": "stderr",
     "output_type": "stream",
     "text": [
      "/home/cmmasaba/anaconda3/lib/python3.12/site-packages/sklearn/base.py:493: UserWarning: X does not have valid feature names, but SVC was fitted with feature names\n",
      "  warnings.warn(\n"
     ]
    },
    {
     "data": {
      "text/plain": [
       "array([5], dtype=uint8)"
      ]
     },
     "execution_count": 97,
     "metadata": {},
     "output_type": "execute_result"
    }
   ],
   "source": [
    "svm_clf = SVC()\n",
    "svm_clf.fit(X_train, y_train)\n",
    "svm_clf.predict([some_digit])"
   ]
  },
  {
   "cell_type": "markdown",
   "id": "9fa0ced1-a57f-43b3-906f-d8ed9f6b8fd7",
   "metadata": {},
   "source": [
    "Under the hood Scikit-learn used OVO strategy, training 45 binary classifiers, got their decision scores for the image and selected the class that won the most duels."
   ]
  },
  {
   "cell_type": "markdown",
   "id": "770347a3-2a72-4d4d-b5db-b33369efd64d",
   "metadata": {},
   "source": [
    "If you call the `decision_function()` it will return 10 scores per instance, instead of just 1, that gives one score per class. The highest score corresponds to the class the model predicts as positive."
   ]
  },
  {
   "cell_type": "code",
   "execution_count": 98,
   "id": "f37ea791-8283-447e-a8ba-fd2f0bc5ce0a",
   "metadata": {},
   "outputs": [
    {
     "name": "stderr",
     "output_type": "stream",
     "text": [
      "/home/cmmasaba/anaconda3/lib/python3.12/site-packages/sklearn/base.py:493: UserWarning: X does not have valid feature names, but SVC was fitted with feature names\n",
      "  warnings.warn(\n"
     ]
    },
    {
     "data": {
      "text/plain": [
       "array([[ 1.72501977,  2.72809088,  7.2510018 ,  8.3076379 , -0.31087254,\n",
       "         9.3132482 ,  1.70975103,  2.76765202,  6.23049537,  4.84771048]])"
      ]
     },
     "execution_count": 98,
     "metadata": {},
     "output_type": "execute_result"
    }
   ],
   "source": [
    "some_digit_scores = svm_clf.decision_function([some_digit])\n",
    "some_digit_scores"
   ]
  },
  {
   "cell_type": "code",
   "execution_count": 99,
   "id": "f347c994-bb2f-41bd-ad54-6b6f16e6b297",
   "metadata": {},
   "outputs": [
    {
     "data": {
      "text/plain": [
       "5"
      ]
     },
     "execution_count": 99,
     "metadata": {},
     "output_type": "execute_result"
    }
   ],
   "source": [
    "np.argmax(some_digit_scores)"
   ]
  },
  {
   "cell_type": "markdown",
   "id": "0297cc30-afcc-406b-8b9f-a9f52566468c",
   "metadata": {},
   "source": [
    "When a classifier is trained, it stores a list of target classes in a `classes_` attribute, ordered by value. In this case, the index of each class in the classes_ array convenently matches the class itself."
   ]
  },
  {
   "cell_type": "code",
   "execution_count": 102,
   "id": "c46657ab-1d02-4eac-912a-36b5145d5584",
   "metadata": {},
   "outputs": [
    {
     "data": {
      "text/plain": [
       "array([0, 1, 2, 3, 4, 5, 6, 7, 8, 9], dtype=uint8)"
      ]
     },
     "execution_count": 102,
     "metadata": {},
     "output_type": "execute_result"
    }
   ],
   "source": [
    "svm_clf.classes_"
   ]
  },
  {
   "cell_type": "code",
   "execution_count": 101,
   "id": "34448207-6e51-4f6e-9982-39121683c769",
   "metadata": {},
   "outputs": [
    {
     "data": {
      "text/plain": [
       "5"
      ]
     },
     "execution_count": 101,
     "metadata": {},
     "output_type": "execute_result"
    }
   ],
   "source": [
    "svm_clf.classes_[5]"
   ]
  },
  {
   "cell_type": "markdown",
   "id": "19b9467c-12b3-4366-b692-8add49311192",
   "metadata": {},
   "source": [
    "To force Scikit-learn to use OvR or OvO strategy, you can use the OneVsOneClassifier or OneVsRestClassifier classes by creating an instance and passing a classifier to it's constructor.<br>\n",
    "For example the code below shows how to create a OvR classifier based on SVC."
   ]
  },
  {
   "cell_type": "code",
   "execution_count": 104,
   "id": "7e6655cd-55be-4ecc-83c6-058c5fcc07b9",
   "metadata": {},
   "outputs": [
    {
     "name": "stderr",
     "output_type": "stream",
     "text": [
      "/home/cmmasaba/anaconda3/lib/python3.12/site-packages/sklearn/base.py:493: UserWarning: X does not have valid feature names, but SVC was fitted with feature names\n",
      "  warnings.warn(\n",
      "/home/cmmasaba/anaconda3/lib/python3.12/site-packages/sklearn/base.py:493: UserWarning: X does not have valid feature names, but SVC was fitted with feature names\n",
      "  warnings.warn(\n",
      "/home/cmmasaba/anaconda3/lib/python3.12/site-packages/sklearn/base.py:493: UserWarning: X does not have valid feature names, but SVC was fitted with feature names\n",
      "  warnings.warn(\n",
      "/home/cmmasaba/anaconda3/lib/python3.12/site-packages/sklearn/base.py:493: UserWarning: X does not have valid feature names, but SVC was fitted with feature names\n",
      "  warnings.warn(\n",
      "/home/cmmasaba/anaconda3/lib/python3.12/site-packages/sklearn/base.py:493: UserWarning: X does not have valid feature names, but SVC was fitted with feature names\n",
      "  warnings.warn(\n",
      "/home/cmmasaba/anaconda3/lib/python3.12/site-packages/sklearn/base.py:493: UserWarning: X does not have valid feature names, but SVC was fitted with feature names\n",
      "  warnings.warn(\n",
      "/home/cmmasaba/anaconda3/lib/python3.12/site-packages/sklearn/base.py:493: UserWarning: X does not have valid feature names, but SVC was fitted with feature names\n",
      "  warnings.warn(\n",
      "/home/cmmasaba/anaconda3/lib/python3.12/site-packages/sklearn/base.py:493: UserWarning: X does not have valid feature names, but SVC was fitted with feature names\n",
      "  warnings.warn(\n",
      "/home/cmmasaba/anaconda3/lib/python3.12/site-packages/sklearn/base.py:493: UserWarning: X does not have valid feature names, but SVC was fitted with feature names\n",
      "  warnings.warn(\n",
      "/home/cmmasaba/anaconda3/lib/python3.12/site-packages/sklearn/base.py:493: UserWarning: X does not have valid feature names, but SVC was fitted with feature names\n",
      "  warnings.warn(\n"
     ]
    },
    {
     "data": {
      "text/plain": [
       "array([5], dtype=uint8)"
      ]
     },
     "execution_count": 104,
     "metadata": {},
     "output_type": "execute_result"
    }
   ],
   "source": [
    "ovr_clf = OneVsRestClassifier(SVC())\n",
    "ovr_clf.fit(X_train, y_train)\n",
    "ovr_clf.predict([some_digit])"
   ]
  },
  {
   "cell_type": "code",
   "execution_count": 105,
   "id": "969a34dc-fd00-4cae-b2d6-b5ca5b0bad40",
   "metadata": {},
   "outputs": [
    {
     "data": {
      "text/plain": [
       "10"
      ]
     },
     "execution_count": 105,
     "metadata": {},
     "output_type": "execute_result"
    }
   ],
   "source": [
    "len(ovr_clf.estimators_)"
   ]
  },
  {
   "cell_type": "markdown",
   "id": "56327cd9-80d3-4a01-858c-4c8aa503a8fe",
   "metadata": {},
   "source": [
    "Training a SGDClassifier or Random Forest Classifier is just as easy. In these cases, Scikit-learn doesn't have to use OvR or OvO strategies since the algorithms are capable of handling multiple classes."
   ]
  },
  {
   "cell_type": "code",
   "execution_count": 106,
   "id": "0b148d1e-f77d-4d07-88f3-8aba88e099ed",
   "metadata": {},
   "outputs": [
    {
     "name": "stderr",
     "output_type": "stream",
     "text": [
      "/home/cmmasaba/anaconda3/lib/python3.12/site-packages/sklearn/base.py:493: UserWarning: X does not have valid feature names, but SGDClassifier was fitted with feature names\n",
      "  warnings.warn(\n"
     ]
    },
    {
     "data": {
      "text/plain": [
       "array([3], dtype=uint8)"
      ]
     },
     "execution_count": 106,
     "metadata": {},
     "output_type": "execute_result"
    }
   ],
   "source": [
    "sgd_clf.fit(X_train, y_train)\n",
    "sgd_clf.predict([some_digit])"
   ]
  },
  {
   "cell_type": "markdown",
   "id": "eb1c86bb-445a-4ea2-8cd9-815aebd4f6d5",
   "metadata": {},
   "source": [
    "The decision_function() now returns one value per class."
   ]
  },
  {
   "cell_type": "code",
   "execution_count": 107,
   "id": "916052a6-abc6-4c69-abab-da781b83df86",
   "metadata": {},
   "outputs": [
    {
     "name": "stderr",
     "output_type": "stream",
     "text": [
      "/home/cmmasaba/anaconda3/lib/python3.12/site-packages/sklearn/base.py:493: UserWarning: X does not have valid feature names, but SGDClassifier was fitted with feature names\n",
      "  warnings.warn(\n"
     ]
    },
    {
     "data": {
      "text/plain": [
       "array([[-31893.03095419, -34419.69069632,  -9530.63950739,\n",
       "          1823.73154031, -22320.14822878,  -1385.80478895,\n",
       "        -26188.91070951, -16147.51323997,  -4604.35491274,\n",
       "        -12050.767298  ]])"
      ]
     },
     "execution_count": 107,
     "metadata": {},
     "output_type": "execute_result"
    }
   ],
   "source": [
    "sgd_clf.decision_function([some_digit])"
   ]
  },
  {
   "cell_type": "markdown",
   "id": "c6916e42-889f-4a20-a5c9-56dd92c5b0d3",
   "metadata": {},
   "source": [
    "Using cross-validation to evaluate the model."
   ]
  },
  {
   "cell_type": "code",
   "execution_count": 108,
   "id": "53190bdd-36b1-4ed0-9fbc-e0d3f4373956",
   "metadata": {},
   "outputs": [
    {
     "data": {
      "text/plain": [
       "array([0.87365, 0.85835, 0.8689 ])"
      ]
     },
     "execution_count": 108,
     "metadata": {},
     "output_type": "execute_result"
    }
   ],
   "source": [
    "cross_val_score(sgd_clf, X_train, y_train, cv=3, scoring='accuracy')"
   ]
  },
  {
   "cell_type": "markdown",
   "id": "4d04269c-7b33-4c39-8521-cc70e7c897dc",
   "metadata": {},
   "source": [
    "Scaling the imputs improves the classifier slightly"
   ]
  },
  {
   "cell_type": "code",
   "execution_count": 112,
   "id": "049d891c-50fe-4d35-bf36-a19da2b5b24d",
   "metadata": {},
   "outputs": [
    {
     "data": {
      "text/plain": [
       "array([0.8983, 0.891 , 0.9018])"
      ]
     },
     "execution_count": 112,
     "metadata": {},
     "output_type": "execute_result"
    }
   ],
   "source": [
    "scaler = StandardScaler()\n",
    "X_train_scaled = scaler.fit_transform(X_train.astype(np.float64))\n",
    "cross_val_score(sgd_clf, X_train_scaled, y_train, cv=3, scoring='accuracy')"
   ]
  },
  {
   "cell_type": "markdown",
   "id": "288b8244-afaa-4171-9ba4-e1c5cd2c14ba",
   "metadata": {},
   "source": [
    "## Error Analysis\n",
    "Error analysis is used to improve shortlisted models.<br>\n",
    "One way is to look at the confusion matrix."
   ]
  },
  {
   "cell_type": "code",
   "execution_count": 118,
   "id": "9471938e-fb0f-42b0-bb09-e543b330d6fd",
   "metadata": {},
   "outputs": [
    {
     "data": {
      "text/plain": [
       "array([[5577,    0,   22,    5,    8,   43,   36,    6,  225,    1],\n",
       "       [   0, 6400,   37,   24,    4,   44,    4,    7,  212,   10],\n",
       "       [  27,   27, 5220,   92,   73,   27,   67,   36,  378,   11],\n",
       "       [  22,   17,  117, 5227,    2,  203,   27,   40,  403,   73],\n",
       "       [  12,   14,   41,    9, 5182,   12,   34,   27,  347,  164],\n",
       "       [  27,   15,   30,  168,   53, 4444,   75,   14,  535,   60],\n",
       "       [  30,   15,   42,    3,   44,   97, 5552,    3,  131,    1],\n",
       "       [  21,   10,   51,   30,   49,   12,    3, 5684,  195,  210],\n",
       "       [  17,   63,   48,   86,    3,  126,   25,   10, 5429,   44],\n",
       "       [  25,   18,   30,   64,  118,   36,    1,  179,  371, 5107]])"
      ]
     },
     "execution_count": 118,
     "metadata": {},
     "output_type": "execute_result"
    }
   ],
   "source": [
    "y_train_pred = cross_val_predict(sgd_clf, X_train_scaled, y_train, cv=3)\n",
    "conf_mx = confusion_matrix(y_train, y_train_pred)\n",
    "conf_mx"
   ]
  },
  {
   "cell_type": "markdown",
   "id": "38fa86ce-6cbe-4633-a68a-ca9c2dc140df",
   "metadata": {},
   "source": [
    "It is often better looking at the visual representation of the confusion matrix when it has many numbers"
   ]
  },
  {
   "cell_type": "code",
   "execution_count": 119,
   "id": "5c0070f7-f11e-4611-b98b-7db82fff9040",
   "metadata": {},
   "outputs": [
    {
     "data": {
      "image/png": "[encoded data removed]",
      "text/plain": [
       "<Figure size 480x480 with 1 Axes>"
      ]
     },
     "metadata": {},
     "output_type": "display_data"
    }
   ],
   "source": [
    "plt.matshow(conf_mx, cmap=plt.cm.gray)\n",
    "plt.show()"
   ]
  },
  {
   "cell_type": "markdown",
   "id": "12b744fa-8f4e-4d7d-bfb4-a49c77f96a63",
   "metadata": {},
   "source": [
    "The confusion matrix looks quite good, since most images are on the main diagonal, showing they were classified correctly. The 5s look slightly darker than other digits. This could be because there are fewer 5s in the dataset or the classifer doesn't perform well on 5 as on other digits."
   ]
  },
  {
   "cell_type": "code",
   "execution_count": 121,
   "id": "d02bcbb1-8cf2-4413-a14a-23e6a28ea998",
   "metadata": {},
   "outputs": [],
   "source": [
    "row_sums = conf_mx.sum(axis=1, keepdims=True)\n",
    "norm_conf_mx = conf_mx/row_sums"
   ]
  },
  {
   "cell_type": "code",
   "execution_count": 124,
   "id": "fd79fb86-f773-44d7-8a18-e2a01c427632",
   "metadata": {},
   "outputs": [
    {
     "data": {
      "image/png": "[encoded data removed]",
      "text/plain": [
       "<Figure size 480x480 with 1 Axes>"
      ]
     },
     "metadata": {},
     "output_type": "display_data"
    }
   ],
   "source": [
    "np.fill_diagonal(norm_conf_mx, 0)\n",
    "plt.matshow(norm_conf_mx, cmap=plt.cm.gray)\n",
    "plt.show()"
   ]
  },
  {
   "cell_type": "markdown",
   "id": "dabf7e01-8515-4043-9e32-110a734c28c7",
   "metadata": {},
   "source": [
    "Rows represent actual classes while columns represent predicted classes. From the plot above, one can tell the kind of errors the classifier makes.<br>\n",
    "The column for number 8 is bright, which shows many images get misclassified as number 8. However the row for number 8 isn't bad, which shows actual 8s are indeed classified as 8.<br>\n",
    "You can also see 3 and 5 get misclassified in both directions."
   ]
  },
  {
   "cell_type": "markdown",
   "id": "f4c824bd-bed7-484b-a7e9-c5d3005069b6",
   "metadata": {},
   "source": [
    "After analyzing the confusion matrix above, insights on how to improve the model include:\n",
    "- reducing false 8s\n",
    "\n",
    "Analyzing individual erros is also a good way of seeing what the classifier is doing and why it could be failing. However it is more time consuming. An example would be an investigation of 3s and 5s."
   ]
  },
  {
   "cell_type": "code",
   "execution_count": 130,
   "id": "bd76d11c-7bdf-417b-8204-df7b9f1ad086",
   "metadata": {},
   "outputs": [],
   "source": [
    "cl_a, cl_b = 3, 5\n",
    "Xaa = X_train[(y_train == cl_a) & (y_train_pred == cl_a)]\n",
    "Xab = X_train[(y_train == cl_a) & (y_train_pred == cl_b)]\n",
    "Xba = X_train[(y_train == cl_b) & (y_train_pred == cl_a)]\n",
    "Xbb = X_train[(y_train == cl_b) & (y_train_pred == cl_b)]"
   ]
  },
  {
   "cell_type": "code",
   "execution_count": null,
   "id": "d1c69d67-f85c-49d9-93b3-b422aa761d60",
   "metadata": {},
   "outputs": [],
   "source": [
    "plt.figure(figsize=(8,8))\n",
    "plt.subplot(221); plot_digits(Xaa[:25], images_per_row=25)\n",
    "plt.subplot(222); plot_digits(Xab[:25], images_per_row=25)\n",
    "plt.subplot(223); plot_digits(Xba[:25], images_per_row=25)\n",
    "plt.subplot(224); plot_digits(Xbb[:25], images_per_row=25)\n",
    "plt.show()"
   ]
  },
  {
   "cell_type": "markdown",
   "id": "e1b9a72a-defa-4b5e-abac-9c9650389c20",
   "metadata": {},
   "source": [
    "The two 5x5 blocks on the left show images classified as 3s and the two 5x5 blocks on the right show images classified as 5s.<br>\n",
    "Some of the errors seem obvious and shouldn't be occuring. However since the classifier used is SGDClassifier, which is a linear model, all it does is it assigns a wieght per class for each pixel and when it sees a new image it just sums up the weighted pixel intensities to get a score for each class. Since 3 and 5 differ by only a few pixels, this model is liable to confuse them."
   ]
  },
  {
   "cell_type": "markdown",
   "id": "e6f89afa-200c-4ebf-bab7-9a4e63596a64",
   "metadata": {},
   "source": [
    "## Multilabel Classification\n",
    "In some cases you may want the classifier to output multiple classes per instance. For example consider a classifier that classifies whether an image is odd and is large i.e. 7, 8 or 9."
   ]
  },
  {
   "cell_type": "code",
   "execution_count": null,
   "id": "19e5b270-2472-48fa-88d8-6b00eec48918",
   "metadata": {},
   "outputs": [],
   "source": [
    "y_train_large = (y_train >= 7)\n",
    "y_train_odd = (y_train % 2 == 0)\n",
    "y_train_multilabel = np.c_[y_train_large, y_train__odd]\n",
    "\n",
    "knn_clf = KNeighborsClassifer()\n",
    "knn_clf.fit(X_train, y_train_multilabel)\n",
    "knn_clf.predict([some_digit])"
   ]
  },
  {
   "cell_type": "markdown",
   "id": "3a5738d2-be36-44dc-9e86-19f0efb536b7",
   "metadata": {},
   "source": [
    "There are many ways of evaluating a multilabel classifier. One method is to compute the f1 score of individual labels and then computing the average. The example below assumes each class has equal importance. However in some cases that may not be true, one class may have more importance or may occur more often than the other. In such cases, the `average` is set to `weighted`."
   ]
  },
  {
   "cell_type": "code",
   "execution_count": null,
   "id": "46e003d5-1451-4c9f-9cd4-03c3661db7da",
   "metadata": {},
   "outputs": [],
   "source": [
    "y_train_knn_pred = cross_val_predict(knn_clf, X_train, y_train_multilabel, cv=3)\n",
    "f1_score(y_train_multilabel, y_train_knn_pred, average='macro')"
   ]
  }
 ],
 "metadata": {
  "kernelspec": {
   "display_name": "Python 3 (ipykernel)",
   "language": "python",
   "name": "python3"
  },
  "language_info": {
   "codemirror_mode": {
    "name": "ipython",
    "version": 3
   },
   "file_extension": ".py",
   "mimetype": "text/x-python",
   "name": "python",
   "nbconvert_exporter": "python",
   "pygments_lexer": "ipython3",
   "version": "3.12.2"
  }
 },
 "nbformat": 4,
 "nbformat_minor": 5
}
